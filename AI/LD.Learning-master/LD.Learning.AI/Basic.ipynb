{
 "cells": [
  {
   "cell_type": "code",
   "execution_count": null,
   "id": "e40a2529",
   "metadata": {
    "polyglot_notebook": {
     "kernelName": "csharp"
    }
   },
   "outputs": [
    {
     "data": {
      "text/html": [
       "<div><div></div><div></div><div><strong>Installed Packages</strong><ul><li><span>LangChain, 0.17.0</span></li><li><span>LangChain.NET, 0.0.2</span></li><li><span>LangChain.Providers.Azure, 0.17.0</span></li></ul></div></div>"
      ]
     },
     "metadata": {},
     "output_type": "display_data"
    },
    {
     "name": "stdout",
     "output_type": "stream",
     "text": [
      "Sure! Here are some fun and creative names for a company that sells colorful socks:\n",
      "\n",
      "1. Sock Spectacle\n",
      "2. Happy Feet Co.\n",
      "3. VibrantToes\n",
      "4. Socktastic\n",
      "5. Rainbow Socks\n",
      "6. ColorStride\n",
      "7. Funky Footwear\n",
      "8. Socknado\n",
      "9. Burst Socks\n",
      "10. KaleidoSocks\n",
      "\n",
      "Feel free to mix and match or modify these suggestions to best fit your brand's personality and vision!\r\n"
     ]
    }
   ],
   "source": [
    "#r \"nuget: LangChain.NET, 0.0.2\"\n",
    "#r \"nuget: LangChain.Providers.Azure, 0.17.0\"\n",
    "#r \"nuget: LangChain, 0.17.0\"\n",
    "\n",
    "using LangChain.Providers;\n",
    "using LangChain.Providers.Azure;\n",
    "using LangChain.Abstractions.Chains.Base;\n",
    "using LangChain.Chains.LLM;\n",
    "using LangChain.Chains.Sequentials;\n",
    "using LangChain.Prompts;\n",
    "using LangChain.Providers.OpenAI.Predefined;\n",
    "using LangChain.Schema;\n",
    "\n",
    "var provider = new AzureOpenAiProvider(apiKey: \"3995e126ae09492187fc672efaa3e20a\", \n",
    "endpoint: \"https://ldapi-sg1.loandepotdev.works/LLM-POC/\", \n",
    "deploymentID: \"LD-Chat\");\n",
    "var llm = new AzureOpenAiChatModel(provider, id: \"LD-Chat\");\n",
    "\n",
    "var result = await llm.GenerateAsync(\"What is a good name for a company that sells colourful socks?\");\n",
    "\n",
    "Console.WriteLine(result);"
   ]
  },
  {
   "cell_type": "code",
   "execution_count": null,
   "id": "5734afa4",
   "metadata": {
    "polyglot_notebook": {
     "kernelName": "csharp"
    }
   },
   "outputs": [],
   "source": []
  }
 ],
 "metadata": {
  "kernelspec": {
   "display_name": ".NET (C#)",
   "language": "C#",
   "name": ".net-csharp"
  },
  "polyglot_notebook": {
   "kernelInfo": {
    "defaultKernelName": "csharp",
    "items": [
     {
      "aliases": [],
      "name": "csharp"
     }
    ]
   }
  }
 },
 "nbformat": 4,
 "nbformat_minor": 5
}
